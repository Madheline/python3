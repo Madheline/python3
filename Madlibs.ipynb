{
 "cells": [
  {
   "cell_type": "code",
   "execution_count": 6,
   "metadata": {},
   "outputs": [
    {
     "name": "stdin",
     "output_type": "stream",
     "text": [
      "Input an adjective crazy\n",
      "Input a color green\n",
      "Input another color blue\n"
     ]
    },
    {
     "name": "stdout",
     "output_type": "stream",
     "text": [
      "The Grinch is a/an crazy green creature with blue eyes who does not like Christmas cheer.\n"
     ]
    }
   ],
   "source": [
    "adjective = input(\"Input an adjective\")\n",
    "color1 = input(\"Input a color\")\n",
    "color2 = input(\"Input another color\")\n",
    "\n",
    "print(f\"The Grinch is a/an {adjective} {color1} creature with {color2} eyes who does not like Christmas cheer.\")"
   ]
  },
  {
   "cell_type": "code",
   "execution_count": 5,
   "metadata": {},
   "outputs": [
    {
     "name": "stdin",
     "output_type": "stream",
     "text": [
      "Input an adjective great\n",
      "Input an verb run\n"
     ]
    },
    {
     "name": "stdout",
     "output_type": "stream",
     "text": [
      "Whenever I am feeling great about myself, I always try to run.\n"
     ]
    }
   ],
   "source": [
    "adjective = input(\"Input an adjective\")\n",
    "verb = input(\"Input an verb\")\n",
    "\n",
    "print(f\"Whenever I am feeling {adjective} about myself, I always try to {verb}.\")"
   ]
  },
  {
   "cell_type": "code",
   "execution_count": 4,
   "metadata": {},
   "outputs": [
    {
     "name": "stdin",
     "output_type": "stream",
     "text": [
      "Input an adjective smart\n",
      "What is your nationality? Dominican\n",
      "What is your name? Maria\n"
     ]
    },
    {
     "name": "stdout",
     "output_type": "stream",
     "text": [
      "Pizza was invented by a/an smart Dominican chef named Maria.\n"
     ]
    }
   ],
   "source": [
    "adjective = input(\"Input an adjective\")\n",
    "nationality = input(\"What is your nationality?\")\n",
    "name = input(\"What is your name?\")\n",
    "\n",
    "print(f\"Pizza was invented by a/an {adjective} {nationality} chef named {name}.\")"
   ]
  },
  {
   "cell_type": "code",
   "execution_count": 3,
   "metadata": {},
   "outputs": [
    {
     "name": "stdin",
     "output_type": "stream",
     "text": [
      "Input an adjective beautiful\n",
      "In what month in your birthday? December\n",
      "What do you like to eat for breakfast? eggs\n",
      "What is your favorite music genre? pop\n"
     ]
    },
    {
     "name": "stdout",
     "output_type": "stream",
     "text": [
      "It was a beautiful December day. I woke up to the smell of eggs while listening to pop music\n"
     ]
    }
   ],
   "source": [
    "adjective = input(\"Input an adjective\")\n",
    "month = input(\"In what month in your birthday?\")\n",
    "food = input(\"What do you like to eat for breakfast?\")\n",
    "music = input(\"What is your favorite music genre?\")\n",
    "\n",
    "print(f\"It was a {adjective} {month} day. I woke up to the smell of {food} while listening to {music} music\") "
   ]
  },
  {
   "cell_type": "code",
   "execution_count": 2,
   "metadata": {},
   "outputs": [
    {
     "name": "stdin",
     "output_type": "stream",
     "text": [
      "What is your eye color? blue\n",
      "Input a body part heart\n"
     ]
    },
    {
     "name": "stdout",
     "output_type": "stream",
     "text": [
      "Today I saw him/her again. When he/she look at me with those blue eyes, it makes my heart go crazy\n"
     ]
    }
   ],
   "source": [
    "color = input(\"What is your eye color?\")\n",
    "body = input(\"Input a body part\")\n",
    "\n",
    "print(f\"Today I saw him/her again. When he/she look at me with those {color} eyes, it makes my {body} go crazy\")"
   ]
  },
  {
   "cell_type": "code",
   "execution_count": 1,
   "metadata": {},
   "outputs": [
    {
     "name": "stdin",
     "output_type": "stream",
     "text": [
      "What is your name? Madheline\n",
      "What is your age 19\n",
      "What is your nationality? Dominican\n"
     ]
    },
    {
     "name": "stdout",
     "output_type": "stream",
     "text": [
      "Hello! My name is Madheline, I am 19 years old and I am Dominican.\n"
     ]
    }
   ],
   "source": [
    "name = input(\"What is your name?\")\n",
    "age = input(\"What is your age?\")\n",
    "nationality = input(\"What is your nationality?\")\n",
    "\n",
    "print(f\"Hello! My name is {name}, I am {age} years old and I am {nationality}.\")"
   ]
  },
  {
   "cell_type": "code",
   "execution_count": 4,
   "metadata": {},
   "outputs": [
    {
     "name": "stdin",
     "output_type": "stream",
     "text": [
      "At what time did you wake up today? 9\n",
      "Favorite Netflix series shameless\n"
     ]
    },
    {
     "name": "stdout",
     "output_type": "stream",
     "text": [
      "Today my alarm went off at 9 as usual, but I couldn't wake up because I spent the whole night watching shameless\n"
     ]
    }
   ],
   "source": [
    "time = input(\"At what time did you wake up today?\")\n",
    "verb = input(\"Favorite Netflix series\")\n",
    "\n",
    "print(f\"Today my alarm went off at {time} as usual, but I couldn't wake up because I spent the whole night watching {verb}\")"
   ]
  },
  {
   "cell_type": "code",
   "execution_count": 1,
   "metadata": {},
   "outputs": [
    {
     "name": "stdin",
     "output_type": "stream",
     "text": [
      "Input an adjective gross\n",
      "Input any verb jump\n"
     ]
    },
    {
     "name": "stdout",
     "output_type": "stream",
     "text": [
      "Our school cafeteria has really gross food. Just thinking about it makes my stomach jump.\n"
     ]
    }
   ],
   "source": [
    "adjective = input(\"Input an adjective\")\n",
    "verb= input(\"Input any verb\")\n",
    "\n",
    "print(f\"Our school cafeteria has really {adjective} food. Just thinking about it makes my stomach {verb}.\")"
   ]
  },
  {
   "cell_type": "code",
   "execution_count": 3,
   "metadata": {},
   "outputs": [
    {
     "name": "stdin",
     "output_type": "stream",
     "text": [
      "Input an adjective gross\n",
      "Input a noun cats\n"
     ]
    },
    {
     "name": "stdout",
     "output_type": "stream",
     "text": [
      "The spaghetti is gross and tastes like cats. \n"
     ]
    }
   ],
   "source": [
    "adjective = input(\"Input an adjective\")\n",
    "noun = input(\"Input a plural noun\")\n",
    "\n",
    "print(f\"The spaghetti is {adjective} and tastes like {noun}. \")"
   ]
  },
  {
   "cell_type": "code",
   "execution_count": 6,
   "metadata": {},
   "outputs": [
    {
     "name": "stdin",
     "output_type": "stream",
     "text": [
      "What is your best friend name? Claudia\n",
      "Input an adjective cool\n",
      "Favorite music genre rock\n",
      "Favorite literary genre romantic\n"
     ]
    },
    {
     "name": "stdout",
     "output_type": "stream",
     "text": [
      "My friend Claudia is very cool. He/She loves listening to rock music and reading romantic books.\n"
     ]
    }
   ],
   "source": [
    "friend = input(\"What is your best friend name?\")\n",
    "adjective = input(\"Input an adjective\")\n",
    "music = input(\"Favorite music genre\")\n",
    "book = input(\"Favorite literary genre\")\n",
    "\n",
    "print(f\"My friend {friend} is very {adjective}. He/She loves listening to {music} music and reading {book} books.\")"
   ]
  },
  {
   "cell_type": "code",
   "execution_count": null,
   "metadata": {},
   "outputs": [],
   "source": []
  }
 ],
 "metadata": {
  "kernelspec": {
   "display_name": "Python 3",
   "language": "python",
   "name": "python3"
  },
  "language_info": {
   "codemirror_mode": {
    "name": "ipython",
    "version": 3
   },
   "file_extension": ".py",
   "mimetype": "text/x-python",
   "name": "python",
   "nbconvert_exporter": "python",
   "pygments_lexer": "ipython3",
   "version": "3.6.5"
  }
 },
 "nbformat": 4,
 "nbformat_minor": 2
}

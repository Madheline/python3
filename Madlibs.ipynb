{
 "cells": [
  {
   "cell_type": "code",
   "execution_count": 4,
   "metadata": {},
   "outputs": [
    {
     "name": "stdin",
     "output_type": "stream",
     "text": [
      "Input an adjective happy\n",
      "Input a color green\n",
      "Input another color blue\n"
     ]
    },
    {
     "name": "stdout",
     "output_type": "stream",
     "text": [
      "The Grinch is a/an happy green creature with blue eyes who does not like Christmas cheer.\n"
     ]
    }
   ],
   "source": [
    "adjective = input(\"Input an adjective\")\n",
    "color1 = input(\"Input a color\")\n",
    "color2 = input(\"Input another color\")\n",
    "\n",
    "print(f\"The Grinch is a/an {adjective} {color1} creature with {color2} eyes who does not like Christmas cheer.\")"
   ]
  },
  {
   "cell_type": "code",
   "execution_count": 3,
   "metadata": {},
   "outputs": [
    {
     "name": "stdin",
     "output_type": "stream",
     "text": [
      "Input an adjective happy\n",
      "Input an verb eat\n"
     ]
    },
    {
     "name": "stdout",
     "output_type": "stream",
     "text": [
      "Whenever I am feeling happy about myself, I always try to eat.\n"
     ]
    }
   ],
   "source": [
    "adjective = input(\"Input an adjective\")\n",
    "verb = input(\"Input an verb\")\n",
    "\n",
    "print(f\"Whenever I am feeling {adjective} about myself, I always try to {verb}.\")"
   ]
  },
  {
   "cell_type": "code",
   "execution_count": 5,
   "metadata": {},
   "outputs": [
    {
     "name": "stdin",
     "output_type": "stream",
     "text": [
      "Input an adjective great\n",
      "What is your nationality? Dominican\n",
      "What is your name? Madheline\n"
     ]
    },
    {
     "name": "stdout",
     "output_type": "stream",
     "text": [
      "Pizza was invented by a/an great Dominican chef named Madheline.\n"
     ]
    }
   ],
   "source": [
    "adjective = input(\"Input an adjective\")\n",
    "nationality = input(\"What is your nationality?\")\n",
    "name = input(\"What is your name?\")\n",
    "\n",
    "print(f\"Pizza was invented by a/an {adjective} {nationality} chef named {name}.\")"
   ]
  },
  {
   "cell_type": "code",
   "execution_count": null,
   "metadata": {},
   "outputs": [],
   "source": []
  }
 ],
 "metadata": {
  "kernelspec": {
   "display_name": "Python 3",
   "language": "python",
   "name": "python3"
  },
  "language_info": {
   "codemirror_mode": {
    "name": "ipython",
    "version": 3
   },
   "file_extension": ".py",
   "mimetype": "text/x-python",
   "name": "python",
   "nbconvert_exporter": "python",
   "pygments_lexer": "ipython3",
   "version": "3.6.5"
  }
 },
 "nbformat": 4,
 "nbformat_minor": 2
}

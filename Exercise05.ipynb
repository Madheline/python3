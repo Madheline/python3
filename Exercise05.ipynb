{
 "cells": [
  {
   "cell_type": "code",
   "execution_count": 12,
   "metadata": {},
   "outputs": [
    {
     "name": "stdout",
     "output_type": "stream",
     "text": [
      "Let's talk about Madheline Almanzar.\n",
      "She's 74 inches tall.\n",
      "She's 140 pounds heavy.\n",
      "Actually that's not too heavy.\n",
      "She's got Brown eyes and Brown hair.\n",
      "Her teeth are usually White depending on the coffee.\n",
      "If I add 19, 74, and 140 I get 233.\n"
     ]
    }
   ],
   "source": [
    "my_name = \"Madheline Almanzar\"\n",
    "my_age = 19 # not a lie\n",
    "my_height = 74 # inches\n",
    "my_weight = 140 # lbs\n",
    "my_eyes = \"Brown\"\n",
    "my_teeth = \"White\"\n",
    "my_hair = \"Brown\"\n",
    "print (\"Let's talk about %s.\" %my_name)\n",
    "print (\"She's %d inches tall.\" % my_height)\n",
    "print (\"She's %d pounds heavy.\" % my_weight)\n",
    "print (\"Actually that's not too heavy.\")\n",
    "print (\"She's got %s eyes and %s hair.\" %(my_eyes, my_hair))\n",
    "print (\"Her teeth are usually %s depending on the coffee.\" %my_teeth)\n",
    "# this line is tricky, try to get it exactly right\n",
    "print (\"If I add %d, %d, and %d I get %d.\" % (my_age, my_height, my_weight, my_age + my_height + my_weight))"
   ]
  },
  {
   "cell_type": "code",
   "execution_count": null,
   "metadata": {},
   "outputs": [],
   "source": []
  }
 ],
 "metadata": {
  "kernelspec": {
   "display_name": "Python 3",
   "language": "python",
   "name": "python3"
  },
  "language_info": {
   "codemirror_mode": {
    "name": "ipython",
    "version": 3
   },
   "file_extension": ".py",
   "mimetype": "text/x-python",
   "name": "python",
   "nbconvert_exporter": "python",
   "pygments_lexer": "ipython3",
   "version": "3.6.5"
  }
 },
 "nbformat": 4,
 "nbformat_minor": 2
}
